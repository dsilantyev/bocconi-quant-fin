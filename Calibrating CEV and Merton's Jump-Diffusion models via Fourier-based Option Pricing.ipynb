{
 "cells": [
  {
   "cell_type": "code",
   "execution_count": 1,
   "metadata": {
    "ExecuteTime": {
     "end_time": "2020-06-29T09:04:41.185019Z",
     "start_time": "2020-06-29T09:04:27.625620Z"
    },
    "init_cell": true
   },
   "outputs": [],
   "source": [
    "import pandas as pd\n",
    "import numpy as np\n",
    "import quadpy as qp\n",
    "import scipy.stats as stats\n",
    "import matplotlib.pyplot as plt"
   ]
  },
  {
   "cell_type": "markdown",
   "metadata": {},
   "source": [
    "__Constant Elasticity of Variance Model (Cox, 1975)__"
   ]
  },
  {
   "cell_type": "markdown",
   "metadata": {},
   "source": [
    "In order to benchmark the solution we obtain via quadrature, we start by implementing Monte Carlo pricing engine, exploiting the Fundamental Asset Pricing Formula:\n",
    "\n",
    "$$\n",
    "C_t = e^{-r(T-t)}\\mathbf{E}^\\mathbb{Q}[(S_T - K)^+ | S_t]\n",
    "$$\n",
    "\n",
    "In CEV framework, the dynamics of the stock price is given by the below SDE:\n",
    "\n",
    "$$\n",
    "dS_t = \\mu S_t dt + \\sigma S_t^{\\beta/2} dW_t\n",
    "$$\n",
    "so that $\\bar{\\sigma} = \\sigma S^{\\left(1 - \\frac{\\beta}{2} \\right)}_t$ is the local (instantaneous) volatility of the process. In order to capture leverage effect, i.e. the inverse relationship between spot price and volatility, we need to set $\\beta < 2$. The above equation describes the dynamics of the stock price under physical probability measure $\\mathbb{P}$, while options are priced under risk-neutral measure $\\mathbb{Q}$. In order to make a transition between the measures, we simply replace real world drift $\\mu$ with risk-free interest rate $r.$\n",
    "\n",
    "In order to sample the process, we discretize the above equation using Euler scheme:\n",
    "\n",
    "$$ \n",
    "S_{i+1} = S_i + \\mu S_i \\Delta t + \\bar{\\sigma}_i S_i \\sqrt{\\Delta t} \\phi_i\n",
    "$$\n",
    "\n",
    "where $\\phi_i \\sim i.i.d. N(0,1)$. Because there is no closed form solution to CEV SDE, we need to obtain a vector of $S_T$ pathwise and can't resort to direct simulation as it would amplify the discretization error."
   ]
  },
  {
   "cell_type": "code",
   "execution_count": 73,
   "metadata": {},
   "outputs": [],
   "source": [
    "def cev(mu, sigma, beta, S0=100, T=1, Nsim=20000, steps=20):\n",
    "    '''\n",
    "    Produces path-wise simulation of CEV process to obtain a vector of stock prices at terminal time T\n",
    "    '''\n",
    "    dt = T/steps\n",
    "\n",
    "    columns = np.linspace(0, steps, steps + 1)\n",
    "    paths = pd.DataFrame(columns=columns)\n",
    "    paths.iloc[:, 0] = [S0] * Nsim\n",
    "\n",
    "    for i in range(1, steps + 1):\n",
    "        st_norm = np.random.normal(0, 1, Nsim)\n",
    "        paths.iloc[:, i] = [paths.iloc[n, i-1] + mu*paths.iloc[n, i-1]*dt + sigma*paths.iloc[n, i-1]**(1-0.5*beta)\n",
    "                            * paths.iloc[n, i-1]*np.sqrt(dt)*st_norm[n] for n in range(Nsim)]\n",
    "\n",
    "    ST = paths.iloc[:, -1]\n",
    "\n",
    "    return ST"
   ]
  },
  {
   "cell_type": "code",
   "execution_count": 74,
   "metadata": {},
   "outputs": [],
   "source": [
    "def mc_call(ST, K, r, T = 1, Nsim = 20000, significance_level = 0.05):\n",
    "    '''\n",
    "    Calculates the price of a European call option for a given simulation of stock prices at terminal time T\n",
    "    '''\n",
    "    price = np.exp(-r*T) * np.mean([max(S - K, 0) for S in ST])\n",
    "    \n",
    "    st_dev = np.std(ST)\n",
    "    z_score = stats.norm.ppf(1 - significance_level/2) # 95% confidence interval\n",
    "    error = z_score * st_dev / np.sqrt(Nsim)\n",
    "    \n",
    "    return price, error"
   ]
  },
  {
   "cell_type": "code",
   "execution_count": 75,
   "metadata": {},
   "outputs": [],
   "source": [
    "# Test that the functions above execute the code \n",
    "test_simulation = cev(mu = 0.02, sigma = 0.1, beta = 1.9)\n",
    "test_price, test_error = mc_call(test_simulation, K = 102, r = 0.02) # note r and mu must coincide to simulate under Q"
   ]
  },
  {
   "cell_type": "code",
   "execution_count": 76,
   "metadata": {},
   "outputs": [
    {
     "data": {
      "image/png": "[encoded data removed]",
      "text/plain": [
       "<Figure size 432x288 with 1 Axes>"
      ]
     },
     "metadata": {
      "needs_background": "light"
     },
     "output_type": "display_data"
    }
   ],
   "source": [
    "test_simulation.plot.hist(bins = 50);\n",
    "plt.xlabel('$S_T$');"
   ]
  },
  {
   "cell_type": "code",
   "execution_count": 77,
   "metadata": {},
   "outputs": [
    {
     "data": {
      "text/plain": [
       "(5.049368872986278, 0.17911980799011387)"
      ]
     },
     "execution_count": 77,
     "metadata": {},
     "output_type": "execute_result"
    }
   ],
   "source": [
    "test_price, test_error"
   ]
  },
  {
   "cell_type": "markdown",
   "metadata": {},
   "source": [
    "The price of a European call option in CEV framework can be expressed as:\n",
    "\n",
    "$$\n",
    "C_t(x, t) = e^x P_1(x, t) - K e^{-r(T-t)} P_2(x,t)\n",
    "$$\n",
    "\n",
    "The first term in this equation is the present value of the asset price and the second term is the present value of the strike-price payment, both conditional on optimal exercise but under different probability measures. $P_1$ is computed with the stock as numeraire asset, whereas $P_2$ is computed with a zero coupon bond as underlying numeraire asset. Since both $P_1$ and $P_2$ represent probability measures, we can write them in terms of their characteristic functions, i.e. Fourier transforms:\n",
    "\n",
    "$$\n",
    "P_k(x,t) = P_k (x_{\\tau=0} \\geq \\ln{K} \\text{ | } x_{\\tau}) = \\frac{1}{2} + \\frac{1}{\\pi} \\int_0^{\\infty} \\mathbf{Re} \\left[ \\frac{e^{-i\\varphi \\ln{K}}}{i \\varphi} \\tilde{f}_k(x_{T, \\varphi}|x_t) \\right] d\\varphi\n",
    "$$\n",
    "\n",
    "for $x = \\ln{S}$, $\\tau = T-t$ and $\\tilde{f}_k(x_{\\tau=0}, \\varphi|x_{\\tau}) = e^{C^k_{\\tau}+i \\varphi x_{\\tau}}$ where:\n",
    "\n",
    "$$\n",
    "C^{1,2}_{\\tau} = ri \\varphi \\tau \\pm \\frac{1}{2}\\sigma^2 \\varphi[i \\mp \\varphi e^{x(\\beta -2)}]\\tau\n",
    "$$"
   ]
  },
  {
   "cell_type": "code",
   "execution_count": 2,
   "metadata": {},
   "outputs": [],
   "source": [
    "def fk(x, beta, sigma, r, T, S, k):\n",
    "    '''\n",
    "    Calculates characteristic function of x = ln S\n",
    "    '''\n",
    "    if k == 1:\n",
    "        C = r*1j*x*T + 0.5*sigma**2*x*(1j - x*np.exp(np.log(S)*(beta-2)))*T\n",
    "    elif k == 2:\n",
    "        C = r*1j*x*T - 0.5*sigma**2*x*(1j + x*np.exp(np.log(S)*(beta-2)))*T\n",
    "    else:\n",
    "        raise ValueError('k can only equal to 1 or 2')\n",
    "\n",
    "    fk = np.exp(C + 1j*x*np.log(S))\n",
    "    \n",
    "    return fk"
   ]
  },
  {
   "cell_type": "code",
   "execution_count": 3,
   "metadata": {},
   "outputs": [],
   "source": [
    "vfk = np.vectorize(fk)"
   ]
  },
  {
   "cell_type": "code",
   "execution_count": 4,
   "metadata": {},
   "outputs": [],
   "source": [
    "def integrand(x, beta, sigma, r, T, S, K, k):\n",
    "    \n",
    "    weight = np.exp(-1j*x*np.log(K))/(1j*x)\n",
    "    if k == 1:\n",
    "        integrand = np.real(weight * vfk(x, beta, sigma, r, T, S, k))\n",
    "    elif k == 2:\n",
    "        integrand = np.real(weight * vfk(x, beta, sigma, r, T, S, k))\n",
    "    else:\n",
    "        raise ValueError('k can only equal to 1 or 2')\n",
    "    \n",
    "    return integrand"
   ]
  },
  {
   "cell_type": "code",
   "execution_count": 5,
   "metadata": {},
   "outputs": [],
   "source": [
    "vintegrand = np.vectorize(integrand)"
   ]
  },
  {
   "cell_type": "code",
   "execution_count": 6,
   "metadata": {},
   "outputs": [],
   "source": [
    "from scipy.integrate import quad"
   ]
  },
  {
   "cell_type": "code",
   "execution_count": 7,
   "metadata": {},
   "outputs": [],
   "source": [
    "def ft_call(beta, sigma, r, T = 1, S0 = 100, K = 100):\n",
    "    '''\n",
    "    Calculates the price of a European call under CEV framework via FT\n",
    "    '''\n",
    "    int1, err1 = quad(lambda x: integrand(x, beta, sigma, r, T, S0, K, k = 1), 0, np.inf)\n",
    "    int2, err2 = quad(lambda x: integrand(x, beta, sigma, r, T, S0, K, k = 2), 0, np.inf)\n",
    "    \n",
    "    P1 = 0.5 + (1/np.pi) * int1 \n",
    "    P2 = 0.5 + (1/np.pi) * int2\n",
    "\n",
    "    ft_call = S0*P1 - K*np.exp(-r*T)*P2\n",
    "    \n",
    "    return ft_call"
   ]
  },
  {
   "cell_type": "code",
   "execution_count": 8,
   "metadata": {},
   "outputs": [
    {
     "data": {
      "text/plain": [
       "5.028447521700421"
      ]
     },
     "execution_count": 8,
     "metadata": {},
     "output_type": "execute_result"
    }
   ],
   "source": [
    "ft_call(beta = 1.9, sigma = 0.1, r = 0.02, T = 1, S0 = 100, K = 102) # compare to MC estimate above"
   ]
  },
  {
   "cell_type": "code",
   "execution_count": 9,
   "metadata": {},
   "outputs": [
    {
     "data": {
      "text/plain": [
       "3.997243090381346"
      ]
     },
     "execution_count": 9,
     "metadata": {},
     "output_type": "execute_result"
    }
   ],
   "source": [
    "ft_call(beta = 2, sigma = 0.1, r = 0.02, T = 1, S0 = 100, K = 102) # compare to BS price below"
   ]
  },
  {
   "cell_type": "markdown",
   "metadata": {},
   "source": [
    "Our Monte Carlo estimate, albeit being much more noisy, does show that our use of characteristic function to solve for the price of a European call in CEV framework was correct. Below we also implement standard Black-Scholes pricing formula in order to cross-check that for $\\beta = 2$ both pricing engines reproduce the correct price.  \n",
    "\n",
    "\\begin{align}\n",
    "C &= S N(d_1) - K e^{-rT} N(d_2) \\\\\n",
    "d_1 &= \\frac{\\ln{\\frac{S}{K}}+(r+\\frac{\\sigma^2}{2})T}{\\sigma \\sqrt{T}} \\\\\n",
    "d_2 &= d_1 - \\sigma \\sqrt{T}\n",
    "\\end{align}"
   ]
  },
  {
   "cell_type": "code",
   "execution_count": 107,
   "metadata": {},
   "outputs": [],
   "source": [
    "def bs_call(S, K, r, T, sigma):\n",
    "    \n",
    "    d1 = (np.log(S/K)+(r + 0.5*sigma**2)*T)/(sigma*np.sqrt(T))\n",
    "    d2 = d1 - sigma*np.sqrt(T)\n",
    "    \n",
    "    Nd1 = stats.norm.cdf(d1)\n",
    "    Nd2 = stats.norm.cdf(d2)\n",
    "    \n",
    "    price = S*Nd1 - K*np.exp(-r*T)*Nd2\n",
    "    \n",
    "    return price"
   ]
  },
  {
   "cell_type": "code",
   "execution_count": 108,
   "metadata": {},
   "outputs": [
    {
     "data": {
      "text/plain": [
       "3.9972430903813176"
      ]
     },
     "execution_count": 108,
     "metadata": {},
     "output_type": "execute_result"
    }
   ],
   "source": [
    "bs_call(S = 100, K = 102, r = 0.02, T = 1, sigma = 0.1)"
   ]
  },
  {
   "cell_type": "markdown",
   "metadata": {},
   "source": [
    "We start by calculating option sensitivities numerically, using finite differences. We choose central difference for delta, the rate of change of the option price with respect to the price of the underlying asset, because of its higher accuracy:\n",
    "\n",
    "$$\n",
    "\\Delta = \\frac{\\partial C}{\\partial S} \\approx \\frac{C(S+\\delta S) - C(S- \\delta S)}{2\\delta S}\n",
    "$$\n",
    "\n",
    "One way of estimating gamma is to estimate delta using a forward difference, then estimate delta using a backward difference and then use the difference between these two estimates (divided by the distance between nodes) as the estimate of gamma:\n",
    "\n",
    "$$\n",
    "\\Gamma = \\frac{\\partial^2 C}{\\partial S^2} \\approx \\frac{C(S+\\delta S) - 2 C(S) + C(S- \\delta S)}{\\delta S^2}\n",
    "$$\n",
    "\n",
    "We then use forward differences to estimate option's theta, vega and rho. In order to maintain their commonly accepted interpretation, we scale them appropriately in the function below. For example, theta is usually quoted as the change in the portfolio value when 1 calendar day passes with all else remaining the same.\n",
    "\n",
    "$$\n",
    "\\Theta = \\frac{\\partial C}{\\partial t} \\approx \\frac{C(t+\\delta t) - C(t)}{\\delta t}\n",
    "$$\n",
    "\n",
    "$$\n",
    "\\nu = \\frac{\\partial C}{\\partial \\sigma} \\approx \\frac{C(\\sigma +\\delta \\sigma) - C(\\sigma)}{\\delta \\sigma}\n",
    "$$\n",
    "\n",
    "$$\n",
    "\\rho = \\frac{\\partial C}{\\partial r} \\approx \\frac{C(r+\\delta r) - C(r)}{\\delta r}\n",
    "$$"
   ]
  },
  {
   "cell_type": "code",
   "execution_count": 105,
   "metadata": {},
   "outputs": [],
   "source": [
    "def cev_sensitivities(beta, sigma, r, T = 1, S0 = 100, K = 100):\n",
    "    \n",
    "    c0 = ft_call(beta, sigma, r, T, S0, K)\n",
    "    dS = S0*0.01\n",
    "    dt = 1/365 # passage of one day\n",
    "    dv = 0.01 # one \"unit of volatility\"\n",
    "    dr = 0.01 # one percent change in rates\n",
    "    \n",
    "    delta = (ft_call(beta, sigma, r, T, S0+dS, K) - ft_call(beta, sigma, r, T, S0-dS, K))/(2*dS)\n",
    "    gamma = (ft_call(beta, sigma, r, T, S0+dS, K) - 2*c0 + ft_call(beta, sigma, r, T, S0-dS, K))/dS**2\n",
    "    theta = ft_call(beta, sigma, r, T-dt, S0, K) - c0\n",
    "    vega = ft_call(beta, sigma+dv, r, T, S0, K) - c0\n",
    "    rho = ft_call(beta, sigma, r+dr, T, S0, K) - c0\n",
    "    \n",
    "    print('Delta : ', round(delta, 4), '\\nGamma : ', round(gamma, 4), \n",
    "          '\\nTheta : ', round(theta, 4), '\\nVega : ', round(vega, 4), '\\nRho : ', round(rho, 4))\n",
    "    \n",
    "    return delta, gamma, theta, vega, rho"
   ]
  },
  {
   "cell_type": "code",
   "execution_count": 106,
   "metadata": {},
   "outputs": [
    {
     "name": "stdout",
     "output_type": "stream",
     "text": [
      "Delta :  0.5206 \n",
      "Gamma :  0.0398 \n",
      "Theta :  -0.0081 \n",
      "Vega :  0.3984 \n",
      "Rho :  0.4982\n"
     ]
    }
   ],
   "source": [
    "cev_sensitivities(beta = 2, sigma = 0.1, r = 0.02, T = 1, S0 = 100, K = 102);"
   ]
  },
  {
   "cell_type": "markdown",
   "metadata": {},
   "source": [
    "__Merton Jump-Diffusion Model (1976)__"
   ]
  },
  {
   "cell_type": "markdown",
   "metadata": {},
   "source": [
    "The risk-neutral stock price dynamics in Merton Jump-Diffusion model is given by the below SDE:\n",
    "\n",
    "$$\n",
    "dS_t = (r - r_J)S_t dt + \\sigma S_t dW_t + J_t S_t dNt\n",
    "$$\n",
    "\n",
    "where $N_t$ is a Poisson process with intensity $\\lambda$ and $J_t$ is the jump size at date $t$, that is distributed according to:\n",
    "\n",
    "$$\n",
    "log(1 + J_t) \\sim N \\left(log(1+\\mu_J)-\\frac{\\delta^2}{2}, \\delta^2 \\right)\n",
    "$$\n",
    "\n",
    "and $r_J$, drift correction for jump, is defined as:\n",
    "\n",
    "$$\n",
    "r_J = \\lambda (e^{\\mu_J+\\frac{\\delta^2}{2}}-1)\n",
    "$$\n",
    "\n",
    "As with CEV, we start by valuing a European call using Monte Carlo simulation, for which we adopt the below discretization:\n",
    "\n",
    "$$\n",
    "S_{i+1} = S_i \\left(e^{(r-r_J-\\sigma^2/2)\\Delta t + \\sigma \\sqrt{\\Delta t} \\phi^1_i}+(e^{\\mu_J + \\delta \\phi^2_i}- 1) p_t \\right)\n",
    "$$\n",
    "\n",
    "where $\\phi_1$ and $\\phi_2$ are independent sequences $\\sim i.i.d. N(0,1)$ and $p_i \\sim Poi(\\lambda)$."
   ]
  },
  {
   "cell_type": "code",
   "execution_count": 96,
   "metadata": {},
   "outputs": [],
   "source": [
    "def m76(r, sigma, lamb, muj, delta, S0 = 100, T = 1, Nsim = 10000, steps = 50):\n",
    "    '''\n",
    "    Produces path-wise simulation of Merton jump-diffusion process to obtain a vector of stock prices at terminal time T\n",
    "    '''\n",
    "    rj = lamb * (np.exp(muj + 0.5 * delta**2) - 1)\n",
    "    dt = T/steps\n",
    "    \n",
    "    columns = np.linspace(0, steps, steps + 1)\n",
    "    paths = pd.DataFrame(columns = columns)\n",
    "    paths.iloc[:, 0] = [S0] * Nsim\n",
    "    \n",
    "    for i in range(1, steps + 1):\n",
    "        poi = np.random.poisson(lamb*dt, Nsim)\n",
    "        phi1 = np.random.normal(0, 1, Nsim)\n",
    "        phi2 = np.random.normal(0, 1, Nsim)\n",
    "        paths.iloc[:, i] = [paths.iloc[n, i-1]*(np.exp((r-rj-0.5*sigma**2)*dt+sigma*np.sqrt(dt)*phi1[n])\n",
    "                                                +poi[n]*(np.exp(muj+delta*phi2[n])-1)) for n in range(Nsim)]\n",
    "        \n",
    "    ST = paths.iloc[:, -1]\n",
    "    \n",
    "    return ST"
   ]
  },
  {
   "cell_type": "code",
   "execution_count": 97,
   "metadata": {},
   "outputs": [
    {
     "data": {
      "text/plain": [
       "(3.977757431654554, 0.20129936089716885)"
      ]
     },
     "execution_count": 97,
     "metadata": {},
     "output_type": "execute_result"
    }
   ],
   "source": [
    "test_m76 = m76(r = 0.02, sigma = 0.1, lamb = 0.02, muj = -0.01, delta = 0.03, S0 = 100, T = 1, Nsim = 10000, steps = 50)\n",
    "test_price_m76, test_error_m76 = mc_call(test_m76, K = 102, r = 0.02, T = 1, Nsim = 10000, significance_level = 0.05)\n",
    "test_price_m76, test_error_m76"
   ]
  },
  {
   "cell_type": "code",
   "execution_count": 98,
   "metadata": {},
   "outputs": [
    {
     "data": {
      "image/png": "[encoded data removed]",
      "text/plain": [
       "<Figure size 432x288 with 1 Axes>"
      ]
     },
     "metadata": {
      "needs_background": "light"
     },
     "output_type": "display_data"
    }
   ],
   "source": [
    "test_m76.plot.hist(bins = 50);\n",
    "plt.xlabel('$S_T$');"
   ]
  },
  {
   "cell_type": "markdown",
   "metadata": {},
   "source": [
    "Here we don't use Heston approach to representing a call option price in the traditional Black-Scholes-style formula. Instead, we implement the valuation formula derived by Lewis (2001):\n",
    "\n",
    "$$\n",
    "C_0 = S_0 - \\frac{\\sqrt{S_0 K}e^{-rT/2}}{\\pi} \\int_0^{\\infty} \\mathbf{Re} \\left[e^{izk} \\tilde{f}(z-i/2,T)\\right] \\frac{dz}{z^2+1/4}\n",
    "$$\n",
    "\n",
    "where $k = \\log{K}$ and the corresponding characteristic function $\\tilde{f}$ is:\n",
    "\n",
    "$$\n",
    "\\tilde{f}(u,T) = \\exp \\left( \\left( iu\\omega - \\frac{u^2\\sigma^2}{2} + \\lambda (e^{iu\\mu_J-u^2\\delta^2/2}-1) \\right) T \\right)\n",
    "$$\n",
    "\n",
    "where risk-neutral drift term $\\omega = r-\\frac{\\sigma^2}{2}-\\lambda(e^{\\mu_J+\\delta^2/2}-1)$."
   ]
  },
  {
   "cell_type": "code",
   "execution_count": 99,
   "metadata": {},
   "outputs": [],
   "source": [
    "def m76_char_func(u, T, r, sigma, lamb, mu, delta):\n",
    "    omega = r - 0.5 * sigma ** 2 - lamb * (np.exp(mu + 0.5 * delta ** 2) - 1)\n",
    "    value = np.exp((1j * u * omega - 0.5 * u ** 2 * sigma ** 2 + lamb * (np.exp(1j * u * mu - u ** 2 * delta ** 2 * 0.5) - 1)) * T)\n",
    "    return value"
   ]
  },
  {
   "cell_type": "code",
   "execution_count": 100,
   "metadata": {},
   "outputs": [],
   "source": [
    "def m76_integrand(u, S0, K, T, r, sigma, lamb, mu, delta):\n",
    "    JDCF = m76_char_func(u - 0.5 * 1j, T, r, sigma, lamb, mu, delta) #jump-diffusion characteristic function\n",
    "    value = 1 / (u ** 2 + 0.25) * (np.exp(1j * u * np.log(S0 / K)) * JDCF).real\n",
    "    return value"
   ]
  },
  {
   "cell_type": "code",
   "execution_count": 101,
   "metadata": {},
   "outputs": [],
   "source": [
    "def m76_call(S0, K, T, r, sigma, lamb, mu, delta):\n",
    "    int_value = qp.quad(lambda u: m76_integrand(u, S0, K, T, r, sigma, lamb, mu, delta), 0, np.inf)[0]\n",
    "    call_value = S0 - np.exp(-r * T) * np.sqrt(S0 * K) / np.pi * int_value\n",
    "    return call_value"
   ]
  },
  {
   "cell_type": "code",
   "execution_count": 102,
   "metadata": {},
   "outputs": [
    {
     "data": {
      "text/plain": [
       "4.001079708403651"
      ]
     },
     "execution_count": 102,
     "metadata": {},
     "output_type": "execute_result"
    }
   ],
   "source": [
    "m76_call(S0 = 100, K = 102, T = 1, r = 0.02, sigma = 0.1, lamb = 0.02, mu = -0.01, delta = 0.03)"
   ]
  },
  {
   "cell_type": "code",
   "execution_count": 103,
   "metadata": {},
   "outputs": [],
   "source": [
    "def m76_sensitivities(S0, K, T, r, sigma, lamb, mu, delta):\n",
    "    \n",
    "    c0 = m76_call(S0, K, T, r, sigma, lamb, mu, delta)\n",
    "    dS = S0*0.01\n",
    "    dt = 1/365 # passage of one day\n",
    "    dv = 0.01 # one \"unit of volatility\"\n",
    "    dr = 0.01 # one percent change in rates\n",
    "    \n",
    "    dlta = (m76_call(S0+dS, K, T, r, sigma, lamb, mu, delta) - m76_call(S0-dS, K, T, r, sigma, lamb, mu, delta))/(2*dS)\n",
    "    gamma = (m76_call(S0+dS, K, T, r, sigma, lamb, mu, delta) - 2*c0 + m76_call(S0-dS, K, T, r, sigma, lamb, mu, delta))/dS**2\n",
    "    theta = m76_call(S0, K, T-dt, r, sigma, lamb, mu, delta) - c0\n",
    "    vega = m76_call(S0, K, T, r, sigma+dv, lamb, mu, delta) - c0\n",
    "    rho = m76_call(S0, K, T, r+dr, sigma, lamb, mu, delta) - c0\n",
    "    \n",
    "    print('Delta : ', round(dlta, 4), '\\nGamma : ', round(gamma, 4), \n",
    "          '\\nTheta : ', round(theta, 4), '\\nVega : ', round(vega, 4), '\\nRho : ', round(rho, 4))\n",
    "    \n",
    "    return dlta, gamma, theta, vega, rho"
   ]
  },
  {
   "cell_type": "code",
   "execution_count": 104,
   "metadata": {},
   "outputs": [
    {
     "name": "stdout",
     "output_type": "stream",
     "text": [
      "Delta :  0.5207 \n",
      "Gamma :  0.0398 \n",
      "Theta :  -0.0081 \n",
      "Vega :  0.398 \n",
      "Rho :  0.4982\n"
     ]
    }
   ],
   "source": [
    "m76_sensitivities(S0 = 100, K = 102, T = 1, r = 0.02, sigma = 0.1, lamb = 0.02, mu = -0.01, delta = 0.03);"
   ]
  },
  {
   "cell_type": "markdown",
   "metadata": {},
   "source": [
    "__Model Calibration__"
   ]
  },
  {
   "cell_type": "markdown",
   "metadata": {},
   "source": [
    "Now that we have working pricing functions for both models, we can calibrate them to observed market prices. We choose Root Mean Squared Error as our error function to be minimized:\n",
    "\n",
    "$$\n",
    "\\min_{\\bar{\\theta}} \\sqrt{\\frac{1}{N} \\sum_{n=1}^{N} \\left(C^{market}_n - C^{model}_n (\\bar{\\theta}) \\right)}\n",
    "$$\n",
    "\n",
    "where we denote a generic vector of model parameters as $\\bar{\\theta}$. We use free data sets available on Yahoo Finance in order to obtain market data. While CBOE traded options are American, since we are only calibrating call prices, the price difference (if any) shouldn't be material to affect the results of our analysis. Our choice of single-stock options on Amazon has the added benefit of not having to deal with dividends."
   ]
  },
  {
   "cell_type": "code",
   "execution_count": 10,
   "metadata": {},
   "outputs": [],
   "source": [
    "from yahoo_fin import options\n",
    "from yahoo_fin import stock_info"
   ]
  },
  {
   "cell_type": "code",
   "execution_count": 23,
   "metadata": {},
   "outputs": [
    {
     "data": {
      "text/plain": [
       "2764.409912109375"
      ]
     },
     "execution_count": 23,
     "metadata": {},
     "output_type": "execute_result"
    }
   ],
   "source": [
    "stock_info.get_live_price('AMZN')"
   ]
  },
  {
   "cell_type": "code",
   "execution_count": 24,
   "metadata": {},
   "outputs": [],
   "source": [
    "S0 = 2764.41\n",
    "today = pd.Timestamp('2020-06-23')"
   ]
  },
  {
   "cell_type": "code",
   "execution_count": 25,
   "metadata": {},
   "outputs": [],
   "source": [
    "exp_dates = options.get_expiration_dates('AMZN') #list of strings containing expiration dates 'Month DD, YYYY'"
   ]
  },
  {
   "cell_type": "code",
   "execution_count": 26,
   "metadata": {},
   "outputs": [
    {
     "data": {
      "text/plain": [
       "['June 26, 2020',\n",
       " 'July 2, 2020',\n",
       " 'July 10, 2020',\n",
       " 'July 17, 2020',\n",
       " 'July 24, 2020',\n",
       " 'July 31, 2020',\n",
       " 'August 21, 2020',\n",
       " 'September 18, 2020',\n",
       " 'October 16, 2020',\n",
       " 'November 20, 2020',\n",
       " 'January 15, 2021',\n",
       " 'February 19, 2021',\n",
       " 'June 18, 2021',\n",
       " 'January 21, 2022']"
      ]
     },
     "execution_count": 26,
     "metadata": {},
     "output_type": "execute_result"
    }
   ],
   "source": [
    "exp_dates"
   ]
  },
  {
   "cell_type": "code",
   "execution_count": 292,
   "metadata": {},
   "outputs": [],
   "source": [
    "amzn_chains = pd.DataFrame()\n",
    "\n",
    "for i in range(5): #limiting dataset to short maturities \n",
    "    T = (pd.Timestamp(exp_dates[i]) - today) / np.timedelta64(1, 'Y') #time to maturity in years\n",
    "    chain = options.get_calls('AMZN', exp_dates[i])[['Strike','Last Price']]\n",
    "    chain['T'] = T\n",
    "    amzn_chains = pd.concat([amzn_chains, chain])\n",
    "\n",
    "amzn_chains = amzn_chains.reset_index(drop = True) #all call options on AMZN with expiry date < 1 month"
   ]
  },
  {
   "cell_type": "code",
   "execution_count": 293,
   "metadata": {},
   "outputs": [],
   "source": [
    "#limiting dataset to near ATM strikes\n",
    "amzn_chains = amzn_chains.loc[(amzn_chains['Strike'] < S0*1.1) & (amzn_chains['Strike'] > S0*0.9)] \n",
    "amzn_chains = amzn_chains.reset_index(drop = True)"
   ]
  },
  {
   "cell_type": "code",
   "execution_count": 294,
   "metadata": {},
   "outputs": [],
   "source": [
    "amzn_chains['S0'] = S0\n",
    "amzn_chains['r'] = 0.0014 #1 month US Treasury yield as of June 9, 2020"
   ]
  },
  {
   "cell_type": "code",
   "execution_count": 295,
   "metadata": {},
   "outputs": [
    {
     "data": {
      "text/html": [
       "<div>\n",
       "<style scoped>\n",
       "    .dataframe tbody tr th:only-of-type {\n",
       "        vertical-align: middle;\n",
       "    }\n",
       "\n",
       "    .dataframe tbody tr th {\n",
       "        vertical-align: top;\n",
       "    }\n",
       "\n",
       "    .dataframe thead th {\n",
       "        text-align: right;\n",
       "    }\n",
       "</style>\n",
       "<table border=\"1\" class=\"dataframe\">\n",
       "  <thead>\n",
       "    <tr style=\"text-align: right;\">\n",
       "      <th></th>\n",
       "      <th>Strike</th>\n",
       "      <th>Last Price</th>\n",
       "      <th>T</th>\n",
       "      <th>S0</th>\n",
       "      <th>r</th>\n",
       "    </tr>\n",
       "  </thead>\n",
       "  <tbody>\n",
       "    <tr>\n",
       "      <th>0</th>\n",
       "      <td>2390.0</td>\n",
       "      <td>264.00</td>\n",
       "      <td>0.002738</td>\n",
       "      <td>2653.98</td>\n",
       "      <td>0.0014</td>\n",
       "    </tr>\n",
       "    <tr>\n",
       "      <th>1</th>\n",
       "      <td>2395.0</td>\n",
       "      <td>251.20</td>\n",
       "      <td>0.002738</td>\n",
       "      <td>2653.98</td>\n",
       "      <td>0.0014</td>\n",
       "    </tr>\n",
       "    <tr>\n",
       "      <th>2</th>\n",
       "      <td>2400.0</td>\n",
       "      <td>251.37</td>\n",
       "      <td>0.002738</td>\n",
       "      <td>2653.98</td>\n",
       "      <td>0.0014</td>\n",
       "    </tr>\n",
       "    <tr>\n",
       "      <th>3</th>\n",
       "      <td>2405.0</td>\n",
       "      <td>241.90</td>\n",
       "      <td>0.002738</td>\n",
       "      <td>2653.98</td>\n",
       "      <td>0.0014</td>\n",
       "    </tr>\n",
       "    <tr>\n",
       "      <th>4</th>\n",
       "      <td>2410.0</td>\n",
       "      <td>237.00</td>\n",
       "      <td>0.002738</td>\n",
       "      <td>2653.98</td>\n",
       "      <td>0.0014</td>\n",
       "    </tr>\n",
       "  </tbody>\n",
       "</table>\n",
       "</div>"
      ],
      "text/plain": [
       "   Strike  Last Price         T       S0       r\n",
       "0  2390.0      264.00  0.002738  2653.98  0.0014\n",
       "1  2395.0      251.20  0.002738  2653.98  0.0014\n",
       "2  2400.0      251.37  0.002738  2653.98  0.0014\n",
       "3  2405.0      241.90  0.002738  2653.98  0.0014\n",
       "4  2410.0      237.00  0.002738  2653.98  0.0014"
      ]
     },
     "execution_count": 295,
     "metadata": {},
     "output_type": "execute_result"
    }
   ],
   "source": [
    "amzn_chains.head()"
   ]
  },
  {
   "cell_type": "markdown",
   "metadata": {},
   "source": [
    "We start by calibrating Merton Jump-Diffusion model. It is well established that the degrees of freedom in the model are not sufficient to simultaneously accommodate both the different maturities and the different strike levels. However, the model reproduces short-term option prices around at-the-money strike levels reasonably well and therefore we limit our dataset only to those options. \n",
    "\n",
    "We use some elements from Hilpisch (2015) to produce our calibration procedure. Here we use the “brute force” method, i.e. compute the error function’s value at each point of a multidimensional grid of points to find its global minimum."
   ]
  },
  {
   "cell_type": "code",
   "execution_count": 27,
   "metadata": {},
   "outputs": [],
   "source": [
    "import scipy.optimize as sop"
   ]
  },
  {
   "cell_type": "code",
   "execution_count": null,
   "metadata": {},
   "outputs": [],
   "source": [
    "def m76_rmse(p0, dataset = amzn_chains):\n",
    "    \n",
    "    sigma, lamb, mu, delta = p0\n",
    "    se = []\n",
    "    for n in dataset.index:\n",
    "        model_value = m76_call(dataset.loc[n, 'S0'], dataset.loc[n, 'Strike'], dataset.loc[n, 'T'], \n",
    "                               dataset.loc[n, 'r'], sigma, lamb, mu, delta)\n",
    "        se.append((dataset.loc[n, 'Last Price'] - model_value) ** 2)\n",
    "    RMSE = np.sqrt(sum(se) / len(se))\n",
    "    \n",
    "    return RMSE"
   ]
  },
  {
   "cell_type": "code",
   "execution_count": 298,
   "metadata": {},
   "outputs": [],
   "source": [
    "p0 = sop.brute(m76_rmse, ((0.1, 0.5, 0.05), (0.0, 0.2, 0.05), (-0.1, 0.1, 0.05), (0.0, 0.3, 0.05)), finish = None)"
   ]
  },
  {
   "cell_type": "code",
   "execution_count": 299,
   "metadata": {},
   "outputs": [
    {
     "data": {
      "text/plain": [
       "array([0.25, 0.15, 0.05, 0.25])"
      ]
     },
     "execution_count": 299,
     "metadata": {},
     "output_type": "execute_result"
    }
   ],
   "source": [
    "p0"
   ]
  },
  {
   "cell_type": "markdown",
   "metadata": {},
   "source": [
    "The above parameters make sense intuitively, except for a slightly lower than expected volatility of the stock. It is however compensated by larger than expected intensity of the Poisson process and the volatility of the jump size.\n",
    "\n",
    "We then proceed to calibrating CEV model, for which we use the full range of maturities available in the market."
   ]
  },
  {
   "cell_type": "code",
   "execution_count": 34,
   "metadata": {},
   "outputs": [],
   "source": [
    "amzn_full = pd.DataFrame()\n",
    "\n",
    "for i in np.arange(7, 10): #limiting dataset to short maturities \n",
    "    T = (pd.Timestamp(exp_dates[i]) - today) / np.timedelta64(1, 'Y') #time to maturity in years\n",
    "    chain = options.get_calls('AMZN', exp_dates[i])[['Strike','Last Price']]\n",
    "    chain['T'] = T\n",
    "    amzn_full = pd.concat([amzn_full, chain])\n",
    "\n",
    "amzn_full = amzn_full.loc[(amzn_full['Strike'] < S0*1.25) & (amzn_full['Strike'] > S0*0.75)] \n",
    "amzn_full = amzn_full.reset_index(drop = True)\n",
    "amzn_full['S0'] = S0\n",
    "amzn_full['r'] = 0.0014"
   ]
  },
  {
   "cell_type": "code",
   "execution_count": 35,
   "metadata": {},
   "outputs": [
    {
     "data": {
      "text/html": [
       "<div>\n",
       "<style scoped>\n",
       "    .dataframe tbody tr th:only-of-type {\n",
       "        vertical-align: middle;\n",
       "    }\n",
       "\n",
       "    .dataframe tbody tr th {\n",
       "        vertical-align: top;\n",
       "    }\n",
       "\n",
       "    .dataframe thead th {\n",
       "        text-align: right;\n",
       "    }\n",
       "</style>\n",
       "<table border=\"1\" class=\"dataframe\">\n",
       "  <thead>\n",
       "    <tr style=\"text-align: right;\">\n",
       "      <th></th>\n",
       "      <th>Strike</th>\n",
       "      <th>Last Price</th>\n",
       "      <th>T</th>\n",
       "      <th>S0</th>\n",
       "      <th>r</th>\n",
       "    </tr>\n",
       "  </thead>\n",
       "  <tbody>\n",
       "    <tr>\n",
       "      <th>0</th>\n",
       "      <td>2075.0</td>\n",
       "      <td>620.37</td>\n",
       "      <td>0.238198</td>\n",
       "      <td>2764.41</td>\n",
       "      <td>0.0014</td>\n",
       "    </tr>\n",
       "    <tr>\n",
       "      <th>1</th>\n",
       "      <td>2080.0</td>\n",
       "      <td>583.85</td>\n",
       "      <td>0.238198</td>\n",
       "      <td>2764.41</td>\n",
       "      <td>0.0014</td>\n",
       "    </tr>\n",
       "    <tr>\n",
       "      <th>2</th>\n",
       "      <td>2085.0</td>\n",
       "      <td>492.04</td>\n",
       "      <td>0.238198</td>\n",
       "      <td>2764.41</td>\n",
       "      <td>0.0014</td>\n",
       "    </tr>\n",
       "    <tr>\n",
       "      <th>3</th>\n",
       "      <td>2090.0</td>\n",
       "      <td>669.60</td>\n",
       "      <td>0.238198</td>\n",
       "      <td>2764.41</td>\n",
       "      <td>0.0014</td>\n",
       "    </tr>\n",
       "    <tr>\n",
       "      <th>4</th>\n",
       "      <td>2095.0</td>\n",
       "      <td>366.81</td>\n",
       "      <td>0.238198</td>\n",
       "      <td>2764.41</td>\n",
       "      <td>0.0014</td>\n",
       "    </tr>\n",
       "    <tr>\n",
       "      <th>...</th>\n",
       "      <td>...</td>\n",
       "      <td>...</td>\n",
       "      <td>...</td>\n",
       "      <td>...</td>\n",
       "      <td>...</td>\n",
       "    </tr>\n",
       "    <tr>\n",
       "      <th>362</th>\n",
       "      <td>3000.0</td>\n",
       "      <td>148.00</td>\n",
       "      <td>0.410686</td>\n",
       "      <td>2764.41</td>\n",
       "      <td>0.0014</td>\n",
       "    </tr>\n",
       "    <tr>\n",
       "      <th>363</th>\n",
       "      <td>3100.0</td>\n",
       "      <td>113.63</td>\n",
       "      <td>0.410686</td>\n",
       "      <td>2764.41</td>\n",
       "      <td>0.0014</td>\n",
       "    </tr>\n",
       "    <tr>\n",
       "      <th>364</th>\n",
       "      <td>3200.0</td>\n",
       "      <td>90.80</td>\n",
       "      <td>0.410686</td>\n",
       "      <td>2764.41</td>\n",
       "      <td>0.0014</td>\n",
       "    </tr>\n",
       "    <tr>\n",
       "      <th>365</th>\n",
       "      <td>3300.0</td>\n",
       "      <td>71.35</td>\n",
       "      <td>0.410686</td>\n",
       "      <td>2764.41</td>\n",
       "      <td>0.0014</td>\n",
       "    </tr>\n",
       "    <tr>\n",
       "      <th>366</th>\n",
       "      <td>3400.0</td>\n",
       "      <td>57.14</td>\n",
       "      <td>0.410686</td>\n",
       "      <td>2764.41</td>\n",
       "      <td>0.0014</td>\n",
       "    </tr>\n",
       "  </tbody>\n",
       "</table>\n",
       "<p>367 rows × 5 columns</p>\n",
       "</div>"
      ],
      "text/plain": [
       "     Strike  Last Price         T       S0       r\n",
       "0    2075.0      620.37  0.238198  2764.41  0.0014\n",
       "1    2080.0      583.85  0.238198  2764.41  0.0014\n",
       "2    2085.0      492.04  0.238198  2764.41  0.0014\n",
       "3    2090.0      669.60  0.238198  2764.41  0.0014\n",
       "4    2095.0      366.81  0.238198  2764.41  0.0014\n",
       "..      ...         ...       ...      ...     ...\n",
       "362  3000.0      148.00  0.410686  2764.41  0.0014\n",
       "363  3100.0      113.63  0.410686  2764.41  0.0014\n",
       "364  3200.0       90.80  0.410686  2764.41  0.0014\n",
       "365  3300.0       71.35  0.410686  2764.41  0.0014\n",
       "366  3400.0       57.14  0.410686  2764.41  0.0014\n",
       "\n",
       "[367 rows x 5 columns]"
      ]
     },
     "execution_count": 35,
     "metadata": {},
     "output_type": "execute_result"
    }
   ],
   "source": [
    "amzn_full"
   ]
  },
  {
   "cell_type": "code",
   "execution_count": 36,
   "metadata": {},
   "outputs": [],
   "source": [
    "def cev_rmse(p0, dataset = amzn_full):\n",
    "    \n",
    "    beta, sigma = p0\n",
    "    se = []\n",
    "    for n in dataset.index:\n",
    "        model_value = ft_call(beta, sigma, dataset.loc[n, 'r'], dataset.loc[n, 'T'], \n",
    "                              dataset.loc[n, 'S0'], dataset.loc[n, 'Strike'])\n",
    "        se.append((dataset.loc[n, 'Last Price'] - model_value) ** 2)\n",
    "    RMSE = np.sqrt(sum(se) / len(se))\n",
    "    \n",
    "    return RMSE"
   ]
  },
  {
   "cell_type": "code",
   "execution_count": null,
   "metadata": {},
   "outputs": [],
   "source": [
    "p0_cev = sop.brute(cev_rmse, ((1., 2., 0.25), (0.0, 0.5, 0.125)), finish = None)"
   ]
  },
  {
   "cell_type": "code",
   "execution_count": 146,
   "metadata": {},
   "outputs": [
    {
     "data": {
      "text/plain": [
       "array([1.75 , 0.125])"
      ]
     },
     "execution_count": 146,
     "metadata": {},
     "output_type": "execute_result"
    }
   ],
   "source": [
    "p0_cev"
   ]
  },
  {
   "cell_type": "markdown",
   "metadata": {},
   "source": [
    "__Selecting quadrature scheme__"
   ]
  },
  {
   "cell_type": "markdown",
   "metadata": {},
   "source": [
    "The general quadrature formula is:\n",
    "\n",
    "$$\n",
    "\\int_a^b f(x) dx \\approx \\sum_{i=0}^n a_i f(x_i)\n",
    "$$\n",
    "\n",
    "where \n",
    "\n",
    "$$\n",
    "a_i = \\int_a^b L_i(x) dx = \\int_a^b \\prod_{k = 0\\\\k \\neq i}^n \\frac{(x-x_k)}{(x_i-x_k)}\n",
    "$$ \n",
    "\n",
    "is the intergral of the Lagrange polynomial of selected order. The error of this approximation is given by:\n",
    "\n",
    "$$\n",
    "\\epsilon(f) = \\frac{1}{(n+1)!} \\int_a^b \\prod_{i=0}^n (x-x_i) f^{(n+1)} (\\xi(x)) dx\n",
    "$$\n",
    "\n",
    "where $\\xi(x)$ is one of the nodes at which the Lagrange polynomial is evaluated. __Simpson's rule__, for example, mandates the use of second-order Lagrange polynomials and equally spaced nodes. Over large intervals the choice of equally-spaced nodes is however inaccurate because of the oscillatory nature of high-degree polynomials. In addition, the variation of the function on the interval of integration is important as smaller step size between the nodes is needed for the large-variation regions than for those with less variation.\n",
    "\n",
    "Quadrature methods belonging to the family of Gaussian quadratures correct the above disadvantages by choosing the nodes for evaluation in an optimal, rather than equally-spaced, way. The nodes $\\{x_1, x_2, ..., x_n\\}$ and the weights $\\{w_1, w_2, ... , w_n \\}$ are chosen to minimize the expected error obtained in the approximation:\n",
    "\n",
    "$$\n",
    "\\int_a^b f(x) dx \\approx \\sum_{i=1}^n w_i f(x_i)\n",
    "$$\n",
    "\n",
    "In general, it is required to generate orthogonal polynomials $\\{ p_0, ... , p_n\\}$, find their roots and compute the corresponding weights, according to appropriately chosen weighting function.\n",
    "\n",
    "__Gauss-Laguerre quadrature__ is particularly well-suited to approximate the integrals of the functions of type:\n",
    "\n",
    "$$\n",
    "\\int_0^{\\infty} e^{-x} f(x) dx \\approx \\sum_{i=1}^n w_i f(x_i)\n",
    "$$\n",
    "\n",
    "The abscissas for quadrature of order $n$ are given by the roots of the Laguerre polynomials $L_n(x)$:\n",
    "\n",
    "$$\n",
    "L_n(x) = \\sum_{k=0}^n \\frac{(-1)^k}{k!} {n \\choose k} x^k\n",
    "$$\n",
    "\n",
    "and the corresponding weights are given by:\n",
    "\n",
    "$$\n",
    "w_i = \\frac{x_i}{(n+1)^2[L_{n+1}(x_i)]^2}\n",
    "$$\n",
    "\n",
    "__Gauss-Lobatto__ quadrature is Gaussian quadrature with weighting function $w(x)=1$ in which the endpoints of the interval $[-1,1]$ are included in a total of $n$ abscissas, giving $n-2$ free abscissas. Abscissas are symmetrical about the origin, and the general formula is\n",
    "\n",
    "$$\n",
    "\\int_{-1}^{1} f(x) dx \\approx w_1 f(-1) + w_n f(1) + \\sum_{i=2}^{n-1} w_i f(x_i) \t\n",
    "$$\n",
    "\n",
    "The free abscissas $x_i$ for $i=2, ..., n-1$ are the roots of the polynomial $P_{n-1}^{'}(x)$, where $P(x)$ is a Legendre polynomial. The weights of the free abscissas are:\n",
    "\n",
    "$$\n",
    "w_i\t= \\frac{2}{n(n-1)[P_{n-1}(x_i)]^2}\n",
    "$$\n",
    "\n",
    "and of the endpoints are:\n",
    "\n",
    "$$\n",
    "w_{1,n}= \\frac{2}{n(n-1)}\n",
    "$$"
   ]
  },
  {
   "cell_type": "code",
   "execution_count": null,
   "metadata": {},
   "outputs": [],
   "source": [
    "#Above quadratute schemes implemented in Quadpy package:\n",
    "qp.e1r.gauss_laguerre(5, alpha = 0)\n",
    "qp.line_segment.gauss_lobatto(5)\n",
    "qp.line_segment.newton_cotes_closed(2)"
   ]
  },
  {
   "cell_type": "markdown",
   "metadata": {},
   "source": [
    "We implement Gauss-Laguerre scheme below and demonstrate the nodes and the weights produced by the scheme. Suprisingly, the scheme underestimates both integrals by an order of magnitude, comparing to SciPy implementation that relies on Fortran library QUADPACK. Changing the number of nodes doesn't affect the scheme's performance. The problem seems to stem from the low weights assigned to the function values at the nodes, particularly comparing to Gauss-Lobatto scheme. "
   ]
  },
  {
   "cell_type": "code",
   "execution_count": 136,
   "metadata": {},
   "outputs": [],
   "source": [
    "scheme = qp.e1r.gauss_laguerre(20) #evaluated at 20 points"
   ]
  },
  {
   "cell_type": "markdown",
   "metadata": {},
   "source": [
    "$$\n",
    "\\int_0^{\\infty} e^{-x} f(x) dx \\approx \\sum_{i=1}^n w_i f(x_i)\n",
    "$$"
   ]
  },
  {
   "cell_type": "code",
   "execution_count": 137,
   "metadata": {},
   "outputs": [
    {
     "data": {
      "text/plain": [
       "0.08194717810527292"
      ]
     },
     "execution_count": 137,
     "metadata": {},
     "output_type": "execute_result"
    }
   ],
   "source": [
    "res1 = vintegrand(scheme.points, beta = 1.9, sigma = 0.1, r = 0.02, T = 1, S = 100, K = 102, k = 1) * scheme.weights * np.exp(scheme.points)\n",
    "res1.sum()"
   ]
  },
  {
   "cell_type": "code",
   "execution_count": 138,
   "metadata": {},
   "outputs": [
    {
     "data": {
      "text/plain": [
       "-0.07573110387991731"
      ]
     },
     "execution_count": 138,
     "metadata": {},
     "output_type": "execute_result"
    }
   ],
   "source": [
    "res2 = vintegrand(scheme.points, beta = 1.9, sigma = 0.1, r = 0.02, T = 1, S = 100, K = 102, k = 2) * scheme.weights * np.exp(scheme.points)\n",
    "res2.sum()"
   ]
  },
  {
   "cell_type": "code",
   "execution_count": 139,
   "metadata": {},
   "outputs": [
    {
     "data": {
      "text/plain": [
       "0.9999999999980127"
      ]
     },
     "execution_count": 139,
     "metadata": {},
     "output_type": "execute_result"
    }
   ],
   "source": [
    "int1/res1.sum()"
   ]
  },
  {
   "cell_type": "code",
   "execution_count": 140,
   "metadata": {},
   "outputs": [
    {
     "data": {
      "text/plain": [
       "0.9999999999980095"
      ]
     },
     "execution_count": 140,
     "metadata": {},
     "output_type": "execute_result"
    }
   ],
   "source": [
    "int2/res2.sum()"
   ]
  },
  {
   "cell_type": "code",
   "execution_count": 141,
   "metadata": {},
   "outputs": [],
   "source": [
    "P1 = 0.5 + (1/np.pi) * res1.sum()\n",
    "P2 = 0.5 + (1/np.pi) * res2.sum()\n",
    "\n",
    "call = 100*P1 - 102*np.exp(-0.02)*P2"
   ]
  },
  {
   "cell_type": "code",
   "execution_count": 142,
   "metadata": {},
   "outputs": [
    {
     "data": {
      "text/plain": [
       "5.02844752171039"
      ]
     },
     "execution_count": 142,
     "metadata": {},
     "output_type": "execute_result"
    }
   ],
   "source": [
    "call #compare to the below value (also obtained previously)"
   ]
  },
  {
   "cell_type": "code",
   "execution_count": 48,
   "metadata": {},
   "outputs": [],
   "source": [
    "#original integration solved using SciPy quad. Compare int1 and int2 to res1 and res2.\n",
    "\n",
    "int1, err1 = quad(lambda x: integrand(x, beta = 1.9, sigma = 0.1, r = 0.02, T = 1, S = 100, K = 102, k = 1), 0, np.inf)\n",
    "int2, err2 = quad(lambda x: integrand(x, beta = 1.9, sigma = 0.1, r = 0.02, T = 1, S = 100, K = 102, k = 2), 0, np.inf)"
   ]
  },
  {
   "cell_type": "code",
   "execution_count": 49,
   "metadata": {},
   "outputs": [
    {
     "data": {
      "text/plain": [
       "0.08194717810511007"
      ]
     },
     "execution_count": 49,
     "metadata": {},
     "output_type": "execute_result"
    }
   ],
   "source": [
    "int1"
   ]
  },
  {
   "cell_type": "code",
   "execution_count": 50,
   "metadata": {},
   "outputs": [
    {
     "data": {
      "text/plain": [
       "-0.07573110387976657"
      ]
     },
     "execution_count": 50,
     "metadata": {},
     "output_type": "execute_result"
    }
   ],
   "source": [
    "int2"
   ]
  },
  {
   "cell_type": "code",
   "execution_count": 222,
   "metadata": {},
   "outputs": [],
   "source": [
    "P1 = 0.5 + (1/np.pi) * int1\n",
    "P2 = 0.5 + (1/np.pi) * int2\n",
    "\n",
    "call = 100*P1 - 102*np.exp(-0.02)*P2"
   ]
  },
  {
   "cell_type": "code",
   "execution_count": 223,
   "metadata": {},
   "outputs": [
    {
     "data": {
      "text/plain": [
       "5.028447521700421"
      ]
     },
     "execution_count": 223,
     "metadata": {},
     "output_type": "execute_result"
    }
   ],
   "source": [
    "call"
   ]
  },
  {
   "cell_type": "code",
   "execution_count": 144,
   "metadata": {},
   "outputs": [
    {
     "data": {
      "image/png": "[encoded data removed]",
      "text/plain": [
       "<Figure size 432x288 with 1 Axes>"
      ]
     },
     "metadata": {
      "needs_background": "light"
     },
     "output_type": "display_data"
    }
   ],
   "source": [
    "scheme.show()"
   ]
  },
  {
   "cell_type": "code",
   "execution_count": 79,
   "metadata": {},
   "outputs": [
    {
     "data": {
      "text/plain": [
       "array([ 0.26356032,  1.41340306,  3.59642577,  7.08581001, 12.64080084])"
      ]
     },
     "execution_count": 79,
     "metadata": {},
     "output_type": "execute_result"
    }
   ],
   "source": [
    "scheme.points"
   ]
  },
  {
   "cell_type": "code",
   "execution_count": 80,
   "metadata": {},
   "outputs": [
    {
     "data": {
      "text/plain": [
       "array([5.21755611e-01, 3.98666811e-01, 7.59424497e-02, 3.61175868e-03,\n",
       "       2.33699724e-05])"
      ]
     },
     "execution_count": 80,
     "metadata": {},
     "output_type": "execute_result"
    }
   ],
   "source": [
    "scheme.weights"
   ]
  },
  {
   "cell_type": "markdown",
   "metadata": {},
   "source": [
    "Gauss-Lobatto scheme, however, does produce the correct price with improved performance from both increasing the upper limit of integration and the number of nodes."
   ]
  },
  {
   "cell_type": "code",
   "execution_count": 224,
   "metadata": {},
   "outputs": [],
   "source": [
    "lobatto = qp.line_segment.gauss_lobatto(5)"
   ]
  },
  {
   "cell_type": "code",
   "execution_count": 238,
   "metadata": {},
   "outputs": [
    {
     "data": {
      "text/plain": [
       "0.08204119551652056"
      ]
     },
     "execution_count": 238,
     "metadata": {},
     "output_type": "execute_result"
    }
   ],
   "source": [
    "int1 = lobatto.integrate(lambda x: integrand(x, beta = 1.9, sigma = 0.1, r = 0.02, T = 1, S = 100, K = 102, k = 1), [0.0001, 50])\n",
    "int1"
   ]
  },
  {
   "cell_type": "code",
   "execution_count": 239,
   "metadata": {},
   "outputs": [
    {
     "data": {
      "text/plain": [
       "-0.07581784077089727"
      ]
     },
     "execution_count": 239,
     "metadata": {},
     "output_type": "execute_result"
    }
   ],
   "source": [
    "int2 = lobatto.integrate(lambda x: integrand(x, beta = 1.9, sigma = 0.1, r = 0.02, T = 1, S = 100, K = 102, k = 2), [0.0001, 50])\n",
    "int2"
   ]
  },
  {
   "cell_type": "code",
   "execution_count": 240,
   "metadata": {},
   "outputs": [],
   "source": [
    "P1 = 0.5 + (1/np.pi) * int1\n",
    "P2 = 0.5 + (1/np.pi) * int2\n",
    "\n",
    "call = 100*P1 - 102*np.exp(-0.02)*P2"
   ]
  },
  {
   "cell_type": "code",
   "execution_count": 241,
   "metadata": {},
   "outputs": [
    {
     "data": {
      "text/plain": [
       "5.034200564970654"
      ]
     },
     "execution_count": 241,
     "metadata": {},
     "output_type": "execute_result"
    }
   ],
   "source": [
    "call"
   ]
  },
  {
   "cell_type": "code",
   "execution_count": 242,
   "metadata": {},
   "outputs": [
    {
     "data": {
      "image/png": "[encoded data removed]",
      "text/plain": [
       "<Figure size 432x288 with 1 Axes>"
      ]
     },
     "metadata": {
      "needs_background": "light"
     },
     "output_type": "display_data"
    }
   ],
   "source": [
    "lobatto.show()"
   ]
  },
  {
   "cell_type": "code",
   "execution_count": 225,
   "metadata": {},
   "outputs": [
    {
     "data": {
      "text/plain": [
       "array([-1.00000000e+00, -6.54653671e-01,  6.66133815e-16,  6.54653671e-01,\n",
       "        1.00000000e+00])"
      ]
     },
     "execution_count": 225,
     "metadata": {},
     "output_type": "execute_result"
    }
   ],
   "source": [
    "lobatto.points"
   ]
  },
  {
   "cell_type": "code",
   "execution_count": 226,
   "metadata": {},
   "outputs": [
    {
     "data": {
      "text/plain": [
       "array([0.1       , 0.54444444, 0.71111111, 0.54444444, 0.1       ])"
      ]
     },
     "execution_count": 226,
     "metadata": {},
     "output_type": "execute_result"
    }
   ],
   "source": [
    "lobatto.weights"
   ]
  },
  {
   "cell_type": "code",
   "execution_count": 257,
   "metadata": {},
   "outputs": [],
   "source": [
    "def gl_cev_call(gl_params, beta, sigma, r, T = 1, S0 = 100, K = 102):\n",
    "    \n",
    "    nnodes, upplim = gl_params\n",
    "    scheme = qp.line_segment.gauss_lobatto(nnodes)\n",
    "    \n",
    "    int1 = scheme.integrate(lambda x: vintegrand(x, beta, sigma, r, T, S0, K, k = 1), (0.001, upplim))\n",
    "    int2 = scheme.integrate(lambda x: vintegrand(x, beta, sigma, r, T, S0, K, k = 2), (0.001, upplim))\n",
    "    \n",
    "    P1 = 0.5 + (1/np.pi) * int1 \n",
    "    P2 = 0.5 + (1/np.pi) * int2\n",
    "\n",
    "    ft_call = S0*P1 - K*np.exp(-r*T)*P2\n",
    "    \n",
    "    return ft_call"
   ]
  },
  {
   "cell_type": "code",
   "execution_count": 258,
   "metadata": {},
   "outputs": [
    {
     "data": {
      "text/plain": [
       "5.0339144569799"
      ]
     },
     "execution_count": 258,
     "metadata": {},
     "output_type": "execute_result"
    }
   ],
   "source": [
    "gl_cev_call((5, 50), 1.9, 0.1, 0.02)"
   ]
  },
  {
   "cell_type": "code",
   "execution_count": 270,
   "metadata": {},
   "outputs": [],
   "source": [
    "nnodes = np.linspace(5, 105, 21)\n",
    "upplim = np.linspace(15, 105, 21)"
   ]
  },
  {
   "cell_type": "code",
   "execution_count": 280,
   "metadata": {},
   "outputs": [],
   "source": [
    "var_nod = [gl_cev_call((int(nnode), 50), 1.9, 0.1, 0.02) for nnode in nnodes]\n",
    "var_lim = [gl_cev_call((50, limit), 1.9, 0.1, 0.02) for limit in upplim]"
   ]
  },
  {
   "cell_type": "code",
   "execution_count": 285,
   "metadata": {},
   "outputs": [
    {
     "data": {
      "image/png": "[encoded data removed]",
      "text/plain": [
       "<Figure size 432x288 with 1 Axes>"
      ]
     },
     "metadata": {
      "needs_background": "light"
     },
     "output_type": "display_data"
    }
   ],
   "source": [
    "plt.plot(nnodes, var_nod);\n",
    "plt.title('Gauss-Lobatto quadrature with varying number of nodes');\n",
    "plt.xlabel('Number of Nodes');\n",
    "plt.ylabel('Option Price');"
   ]
  },
  {
   "cell_type": "code",
   "execution_count": 286,
   "metadata": {},
   "outputs": [
    {
     "data": {
      "image/png": "[encoded data removed]",
      "text/plain": [
       "<Figure size 432x288 with 1 Axes>"
      ]
     },
     "metadata": {
      "needs_background": "light"
     },
     "output_type": "display_data"
    }
   ],
   "source": [
    "plt.plot(upplim, var_lim);\n",
    "plt.title('Gauss-Lobatto quadrature with varying upper limit');\n",
    "plt.xlabel('Upper Limit of Integration');\n",
    "plt.ylabel('Option Price');"
   ]
  }
 ],
 "metadata": {
  "celltoolbar": "Initialization Cell",
  "kernelspec": {
   "display_name": "Python 3",
   "language": "python",
   "name": "python3"
  },
  "language_info": {
   "codemirror_mode": {
    "name": "ipython",
    "version": 3
   },
   "file_extension": ".py",
   "mimetype": "text/x-python",
   "name": "python",
   "nbconvert_exporter": "python",
   "pygments_lexer": "ipython3",
   "version": "3.7.7"
  },
  "toc": {
   "base_numbering": 1,
   "nav_menu": {},
   "number_sections": true,
   "sideBar": true,
   "skip_h1_title": false,
   "title_cell": "Table of Contents",
   "title_sidebar": "Contents",
   "toc_cell": false,
   "toc_position": {},
   "toc_section_display": true,
   "toc_window_display": false
  }
 },
 "nbformat": 4,
 "nbformat_minor": 4
}
